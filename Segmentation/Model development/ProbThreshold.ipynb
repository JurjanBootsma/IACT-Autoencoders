{
 "cells": [
  {
   "cell_type": "markdown",
   "metadata": {},
   "source": [
    "# Probability Threshold"
   ]
  },
  {
   "cell_type": "markdown",
   "metadata": {},
   "source": [
    "Notebook that explores different probability thresholds. This is the threshold from what probability we count a pixel to be part of the signal."
   ]
  },
  {
   "cell_type": "code",
   "execution_count": 1,
   "metadata": {},
   "outputs": [],
   "source": [
    "# Importing some libraries\n",
    "\n",
    "# Torch \n",
    "import torch\n",
    "from torch import nn\n",
    "import torch.nn.functional as F\n",
    "from torchview import draw_graph\n",
    "\n",
    "# Other libraries\n",
    "import pickle\n",
    "import numpy as np\n",
    "import matplotlib.pyplot as plt"
   ]
  },
  {
   "cell_type": "markdown",
   "metadata": {},
   "source": [
    "**Unpacking the data**"
   ]
  },
  {
   "cell_type": "markdown",
   "metadata": {},
   "source": [
    "In this first part, some functions are defined to unpack the data."
   ]
  },
  {
   "cell_type": "code",
   "execution_count": 2,
   "metadata": {},
   "outputs": [],
   "source": [
    "class CPU_Unpickler(pickle.Unpickler):\n",
    "    # to avoid errors that occur when loading pickle files on cpu that were originally saved using a gpu\n",
    "    def find_class(self, module, name):\n",
    "        if module == 'torch.storage' and name == '_load_from_bytes':\n",
    "            return lambda b: torch.load(io.BytesIO(b), map_location='cpu')\n",
    "        else: return super().find_class(module, name)"
   ]
  },
  {
   "cell_type": "code",
   "execution_count": 3,
   "metadata": {},
   "outputs": [],
   "source": [
    "# Function that enables you to unpack a certain chunk of data\n",
    "def load_chunk_file(file_path, chunk_i):\n",
    "    with open(file_path+f'chunk_{chunk_i}', 'rb') as file:\n",
    "            loaded_data = CPU_Unpickler(file).load()\n",
    "            \n",
    "    return loaded_data"
   ]
  },
  {
   "cell_type": "code",
   "execution_count": 4,
   "metadata": {},
   "outputs": [],
   "source": [
    "# The locations of the data\n",
    "file_path_noisy = '/lustre/fs23/group/cta/users/amehta/summer_student_data/noisy_images/'\n",
    "file_path_true = '/lustre/fs23/group/cta/users/amehta/summer_student_data/true_images/'\n",
    "\n",
    "# Unpack 100 chunks of data\n",
    "chunk_tot = 100\n",
    "\n",
    "data_noisy_tot = np.array([])\n",
    "data_true_tot = np.array([])\n",
    "\n",
    "for chunk_i in range(0,chunk_tot):\n",
    "    data_noisy_all = load_chunk_file(file_path_noisy, chunk_i)\n",
    "    mask_gamma_ray = np.array((data_noisy_all[1]==1))\n",
    "    data_noisy_chunk = np.array(data_noisy_all[0])[mask_gamma_ray]\n",
    "    data_noisy_tot = np.append(data_noisy_tot, data_noisy_chunk)\n",
    "    \n",
    "    data_true_all = load_chunk_file(file_path_true, chunk_i)\n",
    "    data_true_chunk = np.array(data_true_all[0])[mask_gamma_ray]\n",
    "    data_true_tot = np.append(data_true_tot, data_true_chunk)\n",
    "    \n",
    "# Get it in the right shape\n",
    "data_noisy = data_noisy_tot.reshape(64*chunk_tot, 56, 56)\n",
    "data_true = data_true_tot.reshape(64*chunk_tot, 56, 56)\n"
   ]
  },
  {
   "cell_type": "code",
   "execution_count": 5,
   "metadata": {},
   "outputs": [
    {
     "name": "stdout",
     "output_type": "stream",
     "text": [
      "Number of images: 6400\n"
     ]
    }
   ],
   "source": [
    "N_examples = len(data_noisy)\n",
    "print(f\"Number of images: {N_examples}\")"
   ]
  },
  {
   "cell_type": "markdown",
   "metadata": {},
   "source": [
    "**Data Preperation**"
   ]
  },
  {
   "cell_type": "code",
   "execution_count": 6,
   "metadata": {},
   "outputs": [],
   "source": [
    "# Make a mask of the locations of the nans, so that we can put them back in after fitting.\n",
    "\n",
    "nan_mask = np.isnan(data_noisy[0])\n",
    "data_noisy_nonan = np.nan_to_num(data_noisy)\n",
    "\n",
    "# Look at the sum of all the pixels for the noisy and true images\n",
    "\n",
    "images_noisy_sum = np.nansum(data_noisy, axis=(1,2))\n",
    "images_true_sum = np.nansum(data_true, axis=(1,2))\n",
    "\n",
    "images_high_mask = (images_noisy_sum>60)\n",
    "\n",
    "# Look at the true images only with pixels of 0 and 1 (non-signal and signal)\n",
    "# For the purpose of the classification\n",
    "\n",
    "threshold = 0\n",
    "\n",
    "data_true_binary = np.zeros((64*chunk_tot, 56, 56))\n",
    "data_true_binary[data_true>threshold] = 1\n",
    "data_true_binary_flat = data_true_binary.reshape((64*chunk_tot, 56*56))\n",
    "\n",
    "# Putting them to the right form with normalization\n",
    "data_noisy_arr = data_noisy[images_high_mask]\n",
    "pix_max = np.nanmax(data_noisy_arr, axis=(1,2))[:, np.newaxis, np.newaxis]\n",
    "pix_min = np.nanmin(data_noisy_arr, axis=(1,2))[:, np.newaxis, np.newaxis]\n",
    "data_noisy_norm = np.nan_to_num((data_noisy_arr - pix_min)/(pix_max-pix_min))\n",
    "\n",
    "data_noisy_tensor = (torch.from_numpy(data_noisy_norm).float())\n",
    "data_noisy_tensor = (torch.from_numpy(data_noisy_nonan[images_high_mask]).float())\n",
    "data_true_tensor = (torch.from_numpy(data_true_binary_flat[images_high_mask])).float()\n",
    "\n",
    "data_noisy_tensor_im = (torch.from_numpy(data_noisy[images_high_mask])).float()\n",
    "data_true_tensor_im = (torch.from_numpy(data_true[images_high_mask])).float()\n",
    "\n",
    "# Split train and test\n",
    "\n",
    "N, w, h = data_noisy_tensor.shape\n",
    "idx_split = int(N*0.8) # 80% training, 20% testing\n",
    "data_noisy_train = data_noisy_tensor[:idx_split]\n",
    "data_true_train = data_true_tensor[:idx_split]\n",
    "data_noisy_test = data_noisy_tensor[idx_split:]\n",
    "data_true_test = data_true_tensor[idx_split:]\n",
    "\n",
    "data_noisy_train_im = data_noisy_tensor_im[:idx_split]\n",
    "data_true_train_im = data_true_tensor_im[:idx_split]\n",
    "data_noisy_test_im = data_noisy_tensor_im[idx_split:]\n",
    "data_true_test_im = data_true_tensor_im[idx_split:]\n"
   ]
  },
  {
   "cell_type": "code",
   "execution_count": 7,
   "metadata": {},
   "outputs": [],
   "source": [
    "# Batch form\n",
    "batch_size = 1\n",
    "\n",
    "N, H, W = data_noisy_train.shape\n",
    "N_new = N//batch_size\n",
    "\n",
    "data_noisy_train_batch = data_noisy_train[:int(N_new*batch_size)].reshape(N_new, batch_size, 1, H, W)\n",
    "data_true_train_batch = data_true_train[:int(N_new*batch_size)].reshape(N_new, batch_size, H*W)"
   ]
  },
  {
   "cell_type": "markdown",
   "metadata": {},
   "source": [
    "**The Autoencoder Model**"
   ]
  },
  {
   "cell_type": "code",
   "execution_count": 8,
   "metadata": {},
   "outputs": [],
   "source": [
    "# AE with 4 layers\n",
    "\n",
    "class AE4(nn.Module):\n",
    "    def __init__(self):\n",
    "        super().__init__()\n",
    "        \n",
    "        second_layer = 75\n",
    "            \n",
    "        # Encoder functions\n",
    "        self.conv1a = nn.Conv2d(1, 10, kernel_size=(3,3), padding='same')\n",
    "        self.conv1b = nn.Conv2d(10, 10, kernel_size=(3,3), padding='same')\n",
    "        self.conv2a = nn.Conv2d(10, second_layer, kernel_size=(3,3), padding='same')\n",
    "        self.conv2b = nn.Conv2d(second_layer, second_layer, kernel_size=(3,3), padding='same')\n",
    "        \n",
    "        # Decoder functions\n",
    "        self.deconv1a = nn.ConvTranspose2d(second_layer, second_layer, kernel_size=(3,3), padding=1)\n",
    "        self.deconv1b = nn.ConvTranspose2d(second_layer, 10, kernel_size=(3,3), padding=1)\n",
    "        self.deconv2a = nn.ConvTranspose2d(10, 10, kernel_size=(3,3), padding=1)\n",
    "        self.deconv2b = nn.ConvTranspose2d(10, 1, kernel_size=(3,3), padding=1)\n",
    "        \n",
    "    def forward(self, x):\n",
    "        if x.dim() == 3:  # (C, H, W)\n",
    "            x = x.unsqueeze(0)  # Convert to (N, C, H, W)\n",
    "            \n",
    "        N = (x.shape)[0]\n",
    "        \n",
    "        # Encoder part\n",
    "        x = F.relu(self.conv1a(x))\n",
    "        x = self.conv1b(x)\n",
    "        x = F.relu(F.max_pool2d(x, (2,2)))\n",
    "        x = F.relu(self.conv2a(x))\n",
    "        x = self.conv2b(x)\n",
    "        x = F.relu(F.max_pool2d(x, (2,2)))\n",
    "        \n",
    "        # Decoder part\n",
    "        x = F.interpolate(x, scale_factor=(2,2), mode='nearest')\n",
    "        x = F.relu(self.deconv1a(x))\n",
    "        x = F.relu(self.deconv1b(x))\n",
    "        x = F.interpolate(x, scale_factor=(2,2), mode='nearest')\n",
    "        x = F.relu(self.deconv2a(x))\n",
    "        x = self.deconv2b(x)\n",
    "        \n",
    "        # Get the right shape\n",
    "        x = x.squeeze(0)\n",
    "        \n",
    "        if N==1:\n",
    "            x = x.reshape(1, 56*56)\n",
    "        else:\n",
    "            x = x.reshape(batch_size, 56*56)\n",
    "        \n",
    "        return x         "
   ]
  },
  {
   "cell_type": "markdown",
   "metadata": {},
   "source": [
    "**Define functions for the training and the testing**"
   ]
  },
  {
   "cell_type": "code",
   "execution_count": 9,
   "metadata": {},
   "outputs": [],
   "source": [
    "# Function to calculate the intersection-over-union\n",
    "def IOU_calc(clean_iou, true_iou): \n",
    "    clean_sum = torch.sum(clean_iou)\n",
    "    true_sum = torch.sum(true_iou)\n",
    "    true_iou2 = torch.zeros(true_iou.shape)\n",
    "    \n",
    "    true_iou2[true_iou==0] = 2 \n",
    "    true_iou2[true_iou==1] = 1\n",
    "    \n",
    "    intersection_arr = (clean_iou==true_iou2)\n",
    "    intersection_sum = torch.sum(intersection_arr)\n",
    "    \n",
    "    IOU = intersection_sum/(clean_sum+true_sum-intersection_sum)\n",
    "    \n",
    "    return IOU"
   ]
  },
  {
   "cell_type": "code",
   "execution_count": 10,
   "metadata": {},
   "outputs": [],
   "source": [
    "learning_rate = 0.0005\n",
    "\n",
    "network = AE4()\n",
    "optimizer = torch.optim.Adam(network.parameters(), lr=learning_rate)"
   ]
  },
  {
   "cell_type": "code",
   "execution_count": 11,
   "metadata": {},
   "outputs": [],
   "source": [
    "# Functions and definitions for \n",
    "n_epochs = 3\n",
    "\n",
    "train_counter = np.linspace(1, n_epochs, n_epochs)\n",
    "test_counter = np.linspace(0, n_epochs, n_epochs+1)\n",
    "train_losses = []\n",
    "test_losses = []\n",
    "IOU_list = []\n",
    "\n",
    "weight = 2\n",
    "\n",
    "# This is the main training loop\n",
    "def train(epoch):\n",
    "    network.train()\n",
    "    \n",
    "    i=0\n",
    "    train_loss = 0\n",
    "    \n",
    "    random_indices = torch.randperm(len(data_noisy_train))\n",
    "    data_noisy_train_clone = torch.clone(data_noisy_train)\n",
    "    data_true_train_clone = torch.clone(data_true_train)\n",
    "    \n",
    "    data_noisy_train[random_indices] = data_noisy_train_clone\n",
    "    data_true_train[random_indices] = data_true_train_clone\n",
    "    \n",
    "    for noisy, true in zip(data_noisy_train_batch, data_true_train_batch):\n",
    "        #noisy = noisy.unsqueeze(0)\n",
    "        #true = true.unsqueeze(0)\n",
    "        \n",
    "        i=i+1\n",
    "        optimizer.zero_grad()\n",
    "        output = network(noisy)\n",
    "        weights = torch.tensor([weight])\n",
    "        loss = F.binary_cross_entropy_with_logits(output, true, pos_weight=weights)\n",
    "        loss.backward()\n",
    "        optimizer.step()\n",
    "        train_loss += loss.item()*batch_size\n",
    "    train_losses.append(train_loss/len(data_noisy_train))\n",
    "    print('Training set: Avg. loss: {:.4f}'.format(train_loss/len(data_noisy_train)))\n",
    "\n",
    "# This is the main testing loop\n",
    "def test():\n",
    "    network.eval()\n",
    "    IOU = 0\n",
    "    test_loss = 0\n",
    "    correct = 0\n",
    "    i=0\n",
    "    with torch.no_grad():\n",
    "        for noisy, true in zip(data_noisy_test, data_true_test):\n",
    "            noisy = noisy.unsqueeze(0)\n",
    "            true = true.unsqueeze(0)\n",
    "            \n",
    "            i=i+1\n",
    "            output = network(noisy)\n",
    "            weights = torch.tensor([weight])\n",
    "            loss = F.binary_cross_entropy_with_logits(output, true, pos_weight=weights)\n",
    "            test_loss += loss.item()\n",
    "            output_data = F.sigmoid(output.data)\n",
    "            output_binary = torch.zeros((output_data.shape))\n",
    "            output_binary[output_data>prob_threshold] = 1\n",
    "            #output_binary = output_data.round()\n",
    "\n",
    "            pred = output.data.max(1, keepdim=True)[1]\n",
    "            IOU += IOU_calc(output_binary, true)\n",
    "    \n",
    "    test_loss /= len(data_noisy_test)\n",
    "    IOU /= len(data_noisy_test)\n",
    "    test_losses.append(test_loss)\n",
    "    IOU_list.append(IOU)\n",
    "    print('\\nTest set: Avg. loss: {:.4f}'.format(test_loss))\n",
    "    print(f'IOU: {IOU}')"
   ]
  },
  {
   "cell_type": "markdown",
   "metadata": {},
   "source": [
    "**Train the model**"
   ]
  },
  {
   "cell_type": "code",
   "execution_count": 12,
   "metadata": {},
   "outputs": [
    {
     "name": "stdout",
     "output_type": "stream",
     "text": [
      "\n",
      "Test set: Avg. loss: 0.6789\n",
      "IOU: 0.01871180720627308\n",
      "Training set: Avg. loss: 0.1769\n",
      "\n",
      "Test set: Avg. loss: 0.0902\n",
      "IOU: 0.3591170608997345\n",
      "Training set: Avg. loss: 0.1034\n",
      "\n",
      "Test set: Avg. loss: 0.0797\n",
      "IOU: 0.4452519416809082\n",
      "Training set: Avg. loss: 0.0956\n",
      "\n",
      "Test set: Avg. loss: 0.0798\n",
      "IOU: 0.45391368865966797\n",
      "Training set: Avg. loss: 0.0906\n",
      "\n",
      "Test set: Avg. loss: 0.0857\n",
      "IOU: 0.45694321393966675\n",
      "Training set: Avg. loss: 0.0875\n",
      "\n",
      "Test set: Avg. loss: 0.0725\n",
      "IOU: 0.4862658381462097\n",
      "Training set: Avg. loss: 0.0852\n",
      "\n",
      "Test set: Avg. loss: 0.0717\n",
      "IOU: 0.4833507537841797\n",
      "Training set: Avg. loss: 0.0832\n",
      "\n",
      "Test set: Avg. loss: 0.0735\n",
      "IOU: 0.4851408004760742\n",
      "Training set: Avg. loss: 0.0821\n",
      "\n",
      "Test set: Avg. loss: 0.0810\n",
      "IOU: 0.45891979336738586\n",
      "Training set: Avg. loss: 0.0814\n",
      "\n",
      "Test set: Avg. loss: 0.0713\n",
      "IOU: 0.48864516615867615\n",
      "Training set: Avg. loss: 0.0804\n",
      "\n",
      "Test set: Avg. loss: 0.0702\n",
      "IOU: 0.4911056160926819\n",
      "Training set: Avg. loss: 0.0796\n",
      "\n",
      "Test set: Avg. loss: 0.0705\n",
      "IOU: 0.49070367217063904\n",
      "Training set: Avg. loss: 0.0790\n",
      "\n",
      "Test set: Avg. loss: 0.0744\n",
      "IOU: 0.4774198532104492\n",
      "Training set: Avg. loss: 0.0787\n",
      "\n",
      "Test set: Avg. loss: 0.0739\n",
      "IOU: 0.4833774268627167\n",
      "Training set: Avg. loss: 0.0779\n",
      "\n",
      "Test set: Avg. loss: 0.0706\n",
      "IOU: 0.49298352003097534\n",
      "Training set: Avg. loss: 0.0772\n",
      "\n",
      "Test set: Avg. loss: 0.0727\n",
      "IOU: 0.48014020919799805\n",
      "CPU times: user 6h 43min 13s, sys: 4min 55s, total: 6h 48min 9s\n",
      "Wall time: 12min 47s\n"
     ]
    }
   ],
   "source": [
    "%%time\n",
    "\n",
    "n_epochs = 15\n",
    "\n",
    "learning_rate = 0.0005\n",
    "\n",
    "prob_threshold = 0.5\n",
    "\n",
    "network = AE4()\n",
    "optimizer = torch.optim.Adam(network.parameters(), lr=learning_rate)\n",
    "\n",
    "train_counter = np.linspace(1, n_epochs, n_epochs)\n",
    "test_counter = np.linspace(0, n_epochs, n_epochs+1)\n",
    "train_losses = []\n",
    "test_losses = []\n",
    "IOU_list = []\n",
    "\n",
    "test()\n",
    "for epoch in range(1, n_epochs + 1):\n",
    "    train(epoch)\n",
    "    test()"
   ]
  },
  {
   "cell_type": "markdown",
   "metadata": {},
   "source": [
    "**Using different probability thresholds**"
   ]
  },
  {
   "cell_type": "code",
   "execution_count": 13,
   "metadata": {},
   "outputs": [],
   "source": [
    "prob_thresholds = np.arange(0,1.1,0.1)\n",
    "IOU_thresholds = []\n",
    "for prob_threshold in prob_thresholds:\n",
    "    IOU=0\n",
    "    for noisy, true in zip(data_noisy_test, data_true_test):\n",
    "        noisy = noisy.unsqueeze(0)\n",
    "        true = true.unsqueeze(0)\n",
    "            \n",
    "        output = network(noisy)\n",
    "        weights = torch.tensor([weight])\n",
    "        loss = F.binary_cross_entropy_with_logits(output, true, pos_weight=weights)\n",
    "        \n",
    "        output_data = F.sigmoid(output.data)\n",
    "        output_binary = torch.zeros((output_data.shape))\n",
    "        output_binary[output_data>=prob_threshold] = 1\n",
    "        IOU += IOU_calc(output_binary, true)\n",
    "\n",
    "    IOU /= len(data_noisy_test)\n",
    "    IOU_thresholds.append(IOU)\n",
    "\n",
    "IOU_arr = np.array(IOU_thresholds)"
   ]
  },
  {
   "cell_type": "code",
   "execution_count": 17,
   "metadata": {},
   "outputs": [
    {
     "data": {
      "image/png": "[encoded data removed]",
      "text/plain": [
       "<Figure size 640x480 with 1 Axes>"
      ]
     },
     "metadata": {},
     "output_type": "display_data"
    }
   ],
   "source": [
    "fig_prob_threshold = plt.figure()\n",
    "plt.title(\"Effect of probability thresholds on the IoU\")\n",
    "plt.scatter(prob_thresholds, IOU_arr)\n",
    "#plt.hlines(0.4070115627594698, -1, n_epochs+1, color='black', linestyles='--', label='Tailcuts')\n",
    "plt.xlabel(\"Probability threshold\")\n",
    "plt.ylabel(\"IoU\")\n",
    "plt.xlim(-0.1, 1.1)\n",
    "plt.show()\n",
    "\n",
    "fig_prob_threshold.savefig(\"images/ProbThreshold.pdf\")"
   ]
  },
  {
   "cell_type": "code",
   "execution_count": null,
   "metadata": {},
   "outputs": [],
   "source": []
  }
 ],
 "metadata": {
  "kernelspec": {
   "display_name": "Python [conda env:env_custom_2]",
   "language": "python",
   "name": "conda-env-env_custom_2-py"
  },
  "language_info": {
   "codemirror_mode": {
    "name": "ipython",
    "version": 3
   },
   "file_extension": ".py",
   "mimetype": "text/x-python",
   "name": "python",
   "nbconvert_exporter": "python",
   "pygments_lexer": "ipython3",
   "version": "3.9.13"
  }
 },
 "nbformat": 4,
 "nbformat_minor": 4
}
